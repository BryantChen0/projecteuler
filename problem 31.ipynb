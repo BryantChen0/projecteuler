{
 "cells": [
  {
   "cell_type": "markdown",
   "source": [
    "In the United Kingdom the currency is made up of pound (£) and pence (p). There are eight coins in general circulation:\n",
    "\n",
    "1p, 2p, 5p, 10p, 20p, 50p, £1 (100p), and £2 (200p).\n",
    "It is possible to make £2 in the following way:\n",
    "\n",
    "1×£1 + 1×50p + 2×20p + 1×5p + 1×2p + 3×1p\n",
    "How many different ways can £2 be made using any number of coins?"
   ],
   "metadata": {
    "collapsed": false,
    "pycharm": {
     "name": "#%% md\n"
    }
   }
  },
  {
   "cell_type": "code",
   "execution_count": null,
   "outputs": [],
   "source": [
    "def main (x, y):\n",
    "    coins = [1,2,5,10,20,50,100,200]\n",
    "    if x == 1 or y == 1:\n",
    "        return 1\n",
    "    elif x < coins [y-1]:\n",
    "        return main(x, y-1)\n",
    "    else:\n",
    "        return main(x - coins[y-1], y) + main(x, y - 1)\n",
    "\n",
    "main(200, 8)"
   ],
   "metadata": {
    "collapsed": false,
    "pycharm": {
     "name": "#%%\n"
    }
   }
  },
  {
   "cell_type": "code",
   "execution_count": null,
   "outputs": [],
   "source": [
    "def main (x, y):\n",
    "    coins = [1,2,5,10,20,50,100,200]\n",
    "    if x == 1 or y == 1:\n",
    "        return 1\n",
    "    elif x < coins [y-1]:\n",
    "        return main(x, y-1)\n",
    "    else:\n",
    "        return main(x - coins[y-1], y) + main(x, y - 1)\n",
    "\n",
    "main(200, 8)"
   ],
   "metadata": {
    "collapsed": false,
    "pycharm": {
     "name": "#%%\n"
    }
   }
  },
  {
   "cell_type": "code",
   "execution_count": 1,
   "outputs": [
    {
     "data": {
      "text/plain": "73682"
     },
     "execution_count": 1,
     "metadata": {},
     "output_type": "execute_result"
    }
   ],
   "source": [
    "def main (x, y):\n",
    "    coins = [1,2,5,10,20,50,100,200]\n",
    "    if x == 1 or y == 1:\n",
    "        return 1\n",
    "    elif x < coins [y-1]:\n",
    "        return main(x, y-1)\n",
    "    else:\n",
    "        return main(x - coins[y-1], y) + main(x, y - 1)\n",
    "\n",
    "main(200, 8)"
   ],
   "metadata": {
    "collapsed": false,
    "pycharm": {
     "name": "#%%\n"
    }
   }
  }
 ],
 "metadata": {
  "kernelspec": {
   "display_name": "Python 3",
   "language": "python",
   "name": "python3"
  },
  "language_info": {
   "codemirror_mode": {
    "name": "ipython",
    "version": 2
   },
   "file_extension": ".py",
   "mimetype": "text/x-python",
   "name": "python",
   "nbconvert_exporter": "python",
   "pygments_lexer": "ipython2",
   "version": "2.7.6"
  }
 },
 "nbformat": 4,
 "nbformat_minor": 0
}