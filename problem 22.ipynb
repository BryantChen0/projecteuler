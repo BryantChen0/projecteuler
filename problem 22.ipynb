{
 "cells": [
  {
   "cell_type": "markdown",
   "source": [
    "Using names.txt (right click and 'Save Link/Target As...'), a 46K text file containing over five-thousand first names, begin by sorting it into alphabetical order. Then working out the alphabetical value for each name, multiply this value by its alphabetical position in the list to obtain a name score.\n",
    "\n",
    "For example, when the list is sorted into alphabetical order, COLIN, which is worth 3 + 15 + 12 + 9 + 14 = 53, is the 938th name in the list. So, COLIN would obtain a score of 938 × 53 = 49714.\n",
    "\n",
    "What is the total of all the name scores in the file?"
   ],
   "metadata": {
    "collapsed": false,
    "pycharm": {
     "name": "#%% md\n"
    }
   }
  },
  {
   "cell_type": "code",
   "execution_count": 7,
   "outputs": [
    {
     "name": "stdout",
     "output_type": "stream",
     "text": [
      "71346322\n"
     ]
    }
   ],
   "source": [
    "def order_in_alphabetical (s):\n",
    "    a = ord(s) - ord(\"A\") + 1\n",
    "    return a\n",
    "\n",
    "def alphabetical (word):\n",
    "    sum = 0\n",
    "    for i in word:\n",
    "        sum += order_in_alphabetical(i)\n",
    "    return sum\n",
    "\n",
    "with open (\"names.txt\" , \"r\") as f:\n",
    "    names = f.read().replace('\"',\"\").split(',')\n",
    "sort_names = sorted(names)\n",
    "\n",
    "def mutiple_of_order (word):\n",
    "    name_score = alphabetical(word) * (sort_names.index(word) + 1)\n",
    "    return name_score\n",
    "\n",
    "res = sum([mutiple_of_order(word) for word in sort_names])\n",
    "print(res)"
   ],
   "metadata": {
    "collapsed": false,
    "pycharm": {
     "name": "#%%\n"
    }
   }
  }
 ],
 "metadata": {
  "kernelspec": {
   "display_name": "Python 3",
   "language": "python",
   "name": "python3"
  },
  "language_info": {
   "codemirror_mode": {
    "name": "ipython",
    "version": 2
   },
   "file_extension": ".py",
   "mimetype": "text/x-python",
   "name": "python",
   "nbconvert_exporter": "python",
   "pygments_lexer": "ipython2",
   "version": "2.7.6"
  }
 },
 "nbformat": 4,
 "nbformat_minor": 0
}