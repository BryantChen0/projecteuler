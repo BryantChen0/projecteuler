{
 "cells": [
  {
   "cell_type": "code",
   "execution_count": 13,
   "metadata": {
    "collapsed": true,
    "pycharm": {
     "name": "#%%\n"
    }
   },
   "outputs": [
    {
     "data": {
      "text/plain": "25164150"
     },
     "execution_count": 13,
     "metadata": {},
     "output_type": "execute_result"
    }
   ],
   "source": [
    "from functools import reduce\n",
    "def sum_of_square(a):\n",
    "    c=0\n",
    "    for i in range (a+1):\n",
    "        b = i**2\n",
    "        c += b\n",
    "    return c\n",
    "\n",
    "def square_of_sum(n):\n",
    "    def sum(a,b):\n",
    "        return a+b\n",
    "    return reduce(sum,range(1,n+1))**2\n",
    "\n",
    "def difference(b):\n",
    "    return abs(sum_of_square(b)-square_of_sum(b))\n",
    "\n",
    "difference(100)"
   ]
  }
 ],
 "metadata": {
  "kernelspec": {
   "display_name": "Python 3",
   "language": "python",
   "name": "python3"
  },
  "language_info": {
   "codemirror_mode": {
    "name": "ipython",
    "version": 2
   },
   "file_extension": ".py",
   "mimetype": "text/x-python",
   "name": "python",
   "nbconvert_exporter": "python",
   "pygments_lexer": "ipython2",
   "version": "2.7.6"
  }
 },
 "nbformat": 4,
 "nbformat_minor": 0
}