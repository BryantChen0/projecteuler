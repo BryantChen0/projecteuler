{
 "cells": [
  {
   "cell_type": "markdown",
   "source": [
    "You are given the following information, but you may prefer to do some research for yourself.\n",
    "\n",
    "1 Jan 1900 was a Monday.\n",
    "Thirty days has September,\n",
    "April, June and November.\n",
    "All the rest have thirty-one,\n",
    "Saving February alone,\n",
    "Which has twenty-eight, rain or shine.\n",
    "And on leap years, twenty-nine.\n",
    "A leap year occurs on any year evenly divisible by 4, but not on a century unless it is divisible by 400.\n",
    "How many Sundays fell on the first of the month during the twentieth century (1 Jan 1901 to 31 Dec 2000)?"
   ],
   "metadata": {
    "collapsed": false,
    "pycharm": {
     "name": "#%% md\n"
    }
   }
  },
  {
   "cell_type": "code",
   "execution_count": 47,
   "outputs": [
    {
     "name": "stdout",
     "output_type": "stream",
     "text": [
      "171\n"
     ]
    }
   ],
   "source": [
    "import datetime as dt\n",
    "start_date = dt.datetime(1901,1,1)\n",
    "end_date = dt.datetime(2000,12,31)\n",
    "per_day = dt.timedelta(days=1)\n",
    "count = 0\n",
    "while start_date <= end_date:\n",
    "    if start_date.weekday() == 6 and start_date.day == 1:\n",
    "        count += 1\n",
    "    start_date += per_day\n",
    "print(count)"
   ],
   "metadata": {
    "collapsed": false,
    "pycharm": {
     "name": "#%%\n"
    }
   }
  }
 ],
 "metadata": {
  "kernelspec": {
   "display_name": "Python 3",
   "language": "python",
   "name": "python3"
  },
  "language_info": {
   "codemirror_mode": {
    "name": "ipython",
    "version": 2
   },
   "file_extension": ".py",
   "mimetype": "text/x-python",
   "name": "python",
   "nbconvert_exporter": "python",
   "pygments_lexer": "ipython2",
   "version": "2.7.6"
  }
 },
 "nbformat": 4,
 "nbformat_minor": 0
}