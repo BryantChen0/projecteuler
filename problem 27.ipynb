{
 "cells": [
  {
   "cell_type": "markdown",
   "source": [
    "Euler discovered the remarkable quadratic formula:\n",
    "\n",
    "\n",
    "It turns out that the formula will produce 40 primes for the consecutive integer values . However, when  is divisible by 41, and certainly when  is clearly divisible by 41.\n",
    "\n",
    "The incredible formula  was discovered, which produces 80 primes for the consecutive values . The product of the coefficients, −79 and 1601, is −126479.\n",
    "\n",
    "Considering quadratics of the form:\n",
    "\n",
    ", where  and\n",
    "\n",
    "where  is the modulus/absolute value of\n",
    "e.g.  and\n",
    "Find the product of the coefficients,  and , for the quadratic expression that produces the maximum number of primes for consecutive values of , starting with ."
   ],
   "metadata": {
    "collapsed": false,
    "pycharm": {
     "name": "#%% md\n"
    }
   }
  }
 ],
 "metadata": {
  "kernelspec": {
   "display_name": "Python 3",
   "language": "python",
   "name": "python3"
  },
  "language_info": {
   "codemirror_mode": {
    "name": "ipython",
    "version": 2
   },
   "file_extension": ".py",
   "mimetype": "text/x-python",
   "name": "python",
   "nbconvert_exporter": "python",
   "pygments_lexer": "ipython2",
   "version": "2.7.6"
  }
 },
 "nbformat": 4,
 "nbformat_minor": 0
}