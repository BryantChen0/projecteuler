{
 "cells": [
  {
   "cell_type": "markdown",
   "source": [
    "If the numbers 1 to 5 are written out in words: one, two, three, four, five, then there are 3 + 3 + 5 + 4 + 4 = 19 letters used in total.\n",
    "\n",
    "If all the numbers from 1 to 1000 (one thousand) inclusive were written out in words, how many letters would be used?\n",
    "\n",
    "\n",
    "NOTE: Do not count spaces or hyphens. For example, 342 (three hundred and forty-two) contains 23 letters and 115 (one hundred and fifteen) contains 20 letters. The use of \"and\" when writing out numbers is in compliance with British usage."
   ],
   "metadata": {
    "collapsed": false,
    "pycharm": {
     "name": "#%% md\n"
    }
   }
  },
  {
   "cell_type": "code",
   "execution_count": 14,
   "outputs": [
    {
     "data": {
      "text/plain": "368616"
     },
     "execution_count": 14,
     "metadata": {},
     "output_type": "execute_result"
    }
   ],
   "source": [
    "def single_digit (num):\n",
    "    if num == 1 or num == 2 or num == 6:\n",
    "        return 3\n",
    "    elif num == 4 or num == 5 or num == 9:\n",
    "        return 4\n",
    "    elif num == 3 or num == 7 or num == 8:\n",
    "        return 5\n",
    "    else:\n",
    "        return 0\n",
    "def double_digit (num):\n",
    "    if num == 10:\n",
    "        return 3\n",
    "    elif num == 11 or num == 12:\n",
    "        return 6\n",
    "    elif num == 15 or num == 16:\n",
    "        return 7\n",
    "    elif num == 13 or num == 14 or num == 18 or num == 19:\n",
    "        return 8\n",
    "    elif num == 17:\n",
    "        return 9\n",
    "    elif num == 2 or num == 3 or num == 8 or num == 9:\n",
    "        return 6\n",
    "    elif num == 4 or num == 5 or num == 6:\n",
    "        return 5\n",
    "    elif num == 7:\n",
    "        return 7\n",
    "\n",
    "def num_word (num):\n",
    "    total = 0\n",
    "    for i in range(1, num):\n",
    "        if 1 < i < 10:\n",
    "            total += single_digit(i)\n",
    "        elif 9 < i < 20:\n",
    "            total += double_digit(i)\n",
    "        elif 20 < i < 100:\n",
    "            total += double_digit(i//10) + single_digit(i%10)\n",
    "        elif 99 < i < 1000:\n",
    "            total += single_digit(i//100) + 7\n",
    "            if i%100 != 0:\n",
    "                total += 3 + num_word(i%100)\n",
    "        else:\n",
    "            total += 11\n",
    "    return total\n",
    "\n",
    "num_word( 1000)"
   ],
   "metadata": {
    "collapsed": false,
    "pycharm": {
     "name": "#%%\n"
    }
   }
  },
  {
   "cell_type": "code",
   "execution_count": 14,
   "outputs": [],
   "source": [],
   "metadata": {
    "collapsed": false,
    "pycharm": {
     "name": "#%%\n"
    }
   }
  }
 ],
 "metadata": {
  "kernelspec": {
   "display_name": "Python 3",
   "language": "python",
   "name": "python3"
  },
  "language_info": {
   "codemirror_mode": {
    "name": "ipython",
    "version": 2
   },
   "file_extension": ".py",
   "mimetype": "text/x-python",
   "name": "python",
   "nbconvert_exporter": "python",
   "pygments_lexer": "ipython2",
   "version": "2.7.6"
  }
 },
 "nbformat": 4,
 "nbformat_minor": 0
}