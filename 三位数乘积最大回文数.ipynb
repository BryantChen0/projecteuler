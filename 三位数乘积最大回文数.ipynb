{
 "cells": [
  {
   "cell_type": "code",
   "execution_count": null,
   "metadata": {
    "collapsed": true,
    "pycharm": {
     "name": "#%%\n"
    }
   },
   "outputs": [],
   "source": [
    "largest_num = 0\n",
    "\n",
    "for i in range (500,1000):\n",
    "    for a in range (500,1000):\n",
    "        num = i*a\n",
    "        num_str = str(num)\n",
    "        if num_str == num_str[ : :-1]:\n",
    "            if largest_num < num:\n",
    "                largest_num = num\n",
    "\n",
    "print (largest_num)"
   ]
  }
 ],
 "metadata": {
  "kernelspec": {
   "display_name": "Python 3",
   "language": "python",
   "name": "python3"
  },
  "language_info": {
   "codemirror_mode": {
    "name": "ipython",
    "version": 2
   },
   "file_extension": ".py",
   "mimetype": "text/x-python",
   "name": "python",
   "nbconvert_exporter": "python",
   "pygments_lexer": "ipython2",
   "version": "2.7.6"
  }
 },
 "nbformat": 4,
 "nbformat_minor": 0
}