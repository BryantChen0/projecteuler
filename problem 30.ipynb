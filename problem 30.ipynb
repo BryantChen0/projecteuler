{
 "cells": [
  {
   "cell_type": "markdown",
   "source": [
    "Surprisingly there are only three numbers that can be written as the sum of fourth powers of their digits:\n",
    "\n",
    "1634 = 14 + 64 + 34 + 44\n",
    "8208 = 84 + 24 + 04 + 84\n",
    "9474 = 94 + 44 + 74 + 44\n",
    "As 1 = 14 is not a sum it is not included.\n",
    "\n",
    "The sum of these numbers is 1634 + 8208 + 9474 = 19316.\n",
    "\n",
    "Find the sum of all the numbers that can be written as the sum of fifth powers of their digits"
   ],
   "metadata": {
    "collapsed": false,
    "pycharm": {
     "name": "#%% md\n"
    }
   }
  },
  {
   "cell_type": "code",
   "execution_count": 6,
   "outputs": [
    {
     "name": "stdout",
     "output_type": "stream",
     "text": [
      "{0: 0, 1: 1, 2: 32, 3: 243, 4: 1024, 5: 3125, 6: 7776, 7: 16807, 8: 32768, 9: 59049}\n"
     ]
    },
    {
     "data": {
      "text/plain": "443839"
     },
     "execution_count": 6,
     "metadata": {},
     "output_type": "execute_result"
    }
   ],
   "source": [
    "set_square = {}\n",
    "for i in range (10):\n",
    "    set_square[i] = i**5\n",
    "\n",
    "print(set_square)\n",
    "\n",
    "def main():\n",
    "    sum = 0\n",
    "    for a in range (10, 354294):\n",
    "        sum_digits = 0\n",
    "        for b in str(a):\n",
    "            sum_digits += set_square[int(b)]\n",
    "        if sum_digits == a:\n",
    "            sum += a\n",
    "    return sum\n",
    "\n",
    "main()"
   ],
   "metadata": {
    "collapsed": false,
    "pycharm": {
     "name": "#%%\n"
    }
   }
  }
 ],
 "metadata": {
  "kernelspec": {
   "display_name": "Python 3",
   "language": "python",
   "name": "python3"
  },
  "language_info": {
   "codemirror_mode": {
    "name": "ipython",
    "version": 2
   },
   "file_extension": ".py",
   "mimetype": "text/x-python",
   "name": "python",
   "nbconvert_exporter": "python",
   "pygments_lexer": "ipython2",
   "version": "2.7.6"
  }
 },
 "nbformat": 4,
 "nbformat_minor": 0
}